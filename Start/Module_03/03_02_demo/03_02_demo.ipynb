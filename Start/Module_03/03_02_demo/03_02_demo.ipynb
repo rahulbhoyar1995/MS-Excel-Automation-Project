{
 "cells": [
  {
   "cell_type": "code",
   "execution_count": null,
   "id": "d570f20a",
   "metadata": {},
   "outputs": [],
   "source": [
    "import pandas as pd\n",
    "import numpy as np\n",
    "from openpyxl.utils.dataframe import dataframe_to_rows\n",
    "from openpyxl import load_workbook"
   ]
  },
  {
   "cell_type": "code",
   "execution_count": null,
   "id": "02b72542",
   "metadata": {},
   "outputs": [],
   "source": []
  },
  {
   "cell_type": "code",
   "execution_count": null,
   "id": "575c125b",
   "metadata": {},
   "outputs": [],
   "source": [
    "# df = pd.read_csv('crime.csv', encoding='utf-8', dtype={'INCIDENT_NUMBER': str, 'OFFENSE_CODE':str,\n",
    "#                                                      'OFFENSE_CODE_GROUP':str, 'OFFENSE_DESCRIPTION':str,\n",
    "#                                                      'DISTRICT':str, 'REPORTING_AREA':str,\n",
    "#                                                      'YEAR':str, 'MONTH':str,\n",
    "#                                                      'DAY_OF_WEEK':str, 'HOUR':str})"
   ]
  }
 ],
 "metadata": {
  "kernelspec": {
   "display_name": "Python 3 (ipykernel)",
   "language": "python",
   "name": "python3"
  },
  "language_info": {
   "codemirror_mode": {
    "name": "ipython",
    "version": 3
   },
   "file_extension": ".py",
   "mimetype": "text/x-python",
   "name": "python",
   "nbconvert_exporter": "python",
   "pygments_lexer": "ipython3",
   "version": "3.9.13"
  }
 },
 "nbformat": 4,
 "nbformat_minor": 5
}
