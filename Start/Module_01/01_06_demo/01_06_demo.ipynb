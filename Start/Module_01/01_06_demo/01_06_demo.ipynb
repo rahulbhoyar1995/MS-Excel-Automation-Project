{
 "cells": [
  {
   "cell_type": "code",
   "execution_count": null,
   "id": "fee2c58c",
   "metadata": {},
   "outputs": [],
   "source": [
    "# pip install vega_datasets"
   ]
  },
  {
   "cell_type": "code",
   "execution_count": null,
   "id": "50bef64b",
   "metadata": {
    "scrolled": false
   },
   "outputs": [],
   "source": [
    "import pandas as pd\n",
    "import seaborn as sns\n",
    "from vega_datasets import local_data\n",
    "import matplotlib.pyplot as plt\n",
    "\n",
    "seattle = local_data.seattle_weather()\n",
    "seattle.head()"
   ]
  },
  {
   "cell_type": "code",
   "execution_count": null,
   "id": "59c04bde",
   "metadata": {},
   "outputs": [],
   "source": []
  }
 ],
 "metadata": {
  "kernelspec": {
   "display_name": "Python 3 (ipykernel)",
   "language": "python",
   "name": "python3"
  },
  "language_info": {
   "codemirror_mode": {
    "name": "ipython",
    "version": 3
   },
   "file_extension": ".py",
   "mimetype": "text/x-python",
   "name": "python",
   "nbconvert_exporter": "python",
   "pygments_lexer": "ipython3",
   "version": "3.9.13"
  }
 },
 "nbformat": 4,
 "nbformat_minor": 5
}
